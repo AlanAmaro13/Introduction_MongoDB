{
  "cells": [
    {
      "cell_type": "markdown",
      "metadata": {
        "id": "view-in-github",
        "colab_type": "text"
      },
      "source": [
        "<a href=\"https://colab.research.google.com/github/AlanAmaro13/Introduction_MongoDB/blob/main/MongoDB_Intro_Notebook_ES_Conda.ipynb\" target=\"_parent\"><img src=\"https://colab.research.google.com/assets/colab-badge.svg\" alt=\"Open In Colab\"/></a>"
      ]
    },
    {
      "cell_type": "markdown",
      "id": "f2ecd909",
      "metadata": {
        "id": "f2ecd909"
      },
      "source": [
        "# MongoDB"
      ]
    },
    {
      "cell_type": "markdown",
      "id": "2bb13d78",
      "metadata": {
        "id": "2bb13d78"
      },
      "source": [
        "<img src=\"https://drive.google.com/uc?id=1t_2epdyFmR4EOMc_QrnJbpEGMp4mm4eY\" width=820 height=340 align = \"center\">"
      ]
    },
    {
      "cell_type": "markdown",
      "id": "fa8928c9",
      "metadata": {
        "id": "fa8928c9"
      },
      "source": [
        "# ¿Qué es MongoDB?"
      ]
    },
    {
      "cell_type": "markdown",
      "id": "75910d7d",
      "metadata": {
        "id": "75910d7d"
      },
      "source": [
        "Intuitivamente buscamos almacenar información para ciertos programas, en algunos solemos dar listas, diccionarios, arrays, etc. Cuando tenemos una gran cantidad de información para ser almacenada buscamos una mejor manera de almacenarlos, y esto implica el uso de Bases de Datos.\n",
        "\n",
        "Una base de datos es un conjunto organizado de datos, que se almacenan electronicamente en algún sistema informático. Estos datos puede ser de casi cualquier tipo, y la función de la base es permitir el almacenamiento, la recuperación, la modificación y la gestión eficiente de datos.  \n",
        "\n",
        "Una _database_ particular es mongoDB, este sistema permite la gestión de bases de datos (DBMS) de forma NoSQL, donde esto significa que la información no se almacena en tablas como tal, sino que tiene un modelo de mayor flexibilidad.\n",
        "\n",
        "Esta almacena documentos JSON (JavaScript Object Notation) que en realidad es muy similar a un diccionario en Python:"
      ]
    },
    {
      "cell_type": "code",
      "execution_count": null,
      "id": "bb8728d0",
      "metadata": {
        "id": "bb8728d0"
      },
      "outputs": [],
      "source": [
        "# { \"name\" : \"Amaro\", \"age\" : 21 }"
      ]
    },
    {
      "cell_type": "markdown",
      "id": "b76ad18d",
      "metadata": {
        "id": "b76ad18d"
      },
      "source": [
        "* Python puede usarse para aplicaciones basadas en bases de datos o databases, donde una de las bases de datos más populares de tipo NoSQL corresponde a MongoDB. La forma en que MongoDB almacena la información es un formato JSON, lo cual le da un carácter muy flexible y escalable.\n",
        "\n",
        "\n",
        "* Para tener acceso a una base de datos de este tipo, puede descargarse una en la siguiente dirección: https://www.mongodb.com/ o para acceder a un servicio en la nube: https://www.mongodb.com/cloud/atlas\n",
        "\n",
        "\n"
      ]
    },
    {
      "cell_type": "markdown",
      "id": "45ba40a7",
      "metadata": {
        "id": "45ba40a7"
      },
      "source": [
        "Para hacer uso de MongoDB es necesario descargar el _software_ correspondiente en: https://www.mongodb.com/try/download/community. En este caso yo realicé la instalación incluyendo su interfaz gráfica Compass, aunque no es indispensable."
      ]
    },
    {
      "cell_type": "markdown",
      "id": "743f296d",
      "metadata": {
        "id": "743f296d"
      },
      "source": [
        "Para utilizar el resto de la notebook se necesitará de tener instalado el _software de MongoDB_ y haber iniciado el servidor"
      ]
    },
    {
      "cell_type": "markdown",
      "id": "364920e4",
      "metadata": {
        "id": "364920e4"
      },
      "source": [
        "# ¿Qué es PyMongo?\n"
      ]
    },
    {
      "cell_type": "markdown",
      "id": "24029dc2",
      "metadata": {
        "id": "24029dc2"
      },
      "source": [
        "Python necesita una manera de comunicarse con la base datos, es decir, necesita de un driver. En este caso usaremos PyMongo para comunicarnos con la base, para instalarlo en PIP únicamente se requiere ejecutar el comando \"pip install pymongo\" desde la terminal de Anaconda."
      ]
    },
    {
      "cell_type": "code",
      "execution_count": null,
      "id": "c2b8dff2",
      "metadata": {
        "id": "c2b8dff2"
      },
      "outputs": [],
      "source": [
        "# Podemos comprobar si nuestra instalación fue exitosa si al correr el siguiente comando\n",
        "# NO obtenemos algún error\n",
        "import pymongo"
      ]
    },
    {
      "cell_type": "markdown",
      "id": "8652312b",
      "metadata": {
        "id": "8652312b"
      },
      "source": [
        "# Creando un *DataBase*\n"
      ]
    },
    {
      "cell_type": "markdown",
      "id": "da23f77d",
      "metadata": {
        "id": "da23f77d"
      },
      "source": [
        "Para crear una base de datos en MongoDB es necesario crear un objeto MongoClient, y especificar una conexión URL con la dirección IP y el nombre de la base; En caso de que no se tenga una base creada se creará una y se establecerá una conexión con la misma"
      ]
    },
    {
      "cell_type": "code",
      "execution_count": null,
      "id": "8509171b",
      "metadata": {
        "id": "8509171b"
      },
      "outputs": [],
      "source": [
        "import pymongo\n",
        "\n",
        "# Declaramos el objeto y establecemos conexión\n",
        "myclient = pymongo.MongoClient(\"mongodb://localhost:27017/\")\n",
        "\n",
        "# Declaramos su nombre:\n",
        "mydb = myclient[\"mydatabase\"]\n",
        "\n",
        "# NOTA: En MongoDB una database no se crea hasta que tenga contenido, es decir, hasta\n",
        "# que se le de una tabla con al menos un documento.\n",
        "\n"
      ]
    },
    {
      "cell_type": "code",
      "execution_count": null,
      "id": "a20651e7",
      "metadata": {
        "id": "a20651e7",
        "outputId": "ab9b5c6a-0d05-477a-cab4-53984fff6a6b"
      },
      "outputs": [
        {
          "name": "stdout",
          "output_type": "stream",
          "text": [
            "['admin', 'config', 'local']\n"
          ]
        }
      ],
      "source": [
        "# Para checar si ya existe una db:\n",
        "print(myclient.list_database_names())"
      ]
    },
    {
      "cell_type": "code",
      "execution_count": null,
      "id": "345cf01f",
      "metadata": {
        "id": "345cf01f"
      },
      "outputs": [],
      "source": [
        "# O con:\n",
        "dblist = myclient.list_database_names()\n",
        "if \"mydatabase\" in dblist:\n",
        "    print(\"The database exists.\")"
      ]
    },
    {
      "cell_type": "markdown",
      "id": "f9db9e10",
      "metadata": {
        "id": "f9db9e10"
      },
      "source": [
        "# Creando una Colección"
      ]
    },
    {
      "cell_type": "markdown",
      "id": "1c552f59",
      "metadata": {
        "id": "1c552f59"
      },
      "source": [
        "Para crear una nueva coleccion únicamente es necesario usar el objeto database y especificar el nombre de la nueva colección. Una colección es lo mismo que una tabla en SQL."
      ]
    },
    {
      "cell_type": "code",
      "execution_count": null,
      "id": "0c41d7cb",
      "metadata": {
        "id": "0c41d7cb"
      },
      "outputs": [],
      "source": [
        "mycol = mydb[\"customers\"]\n",
        "# NOTA: Una colección no es creada hasta que tiene contenido"
      ]
    },
    {
      "cell_type": "code",
      "execution_count": null,
      "id": "3813bf4f",
      "metadata": {
        "id": "3813bf4f"
      },
      "outputs": [],
      "source": [
        "# Para revisar una coleccion existe se utiliza:\n",
        "collist = mydb.list_collection_names()\n",
        "if \"customers\" in collist:\n",
        "  print(\"The collection exists.\")\n",
        "\n",
        "# en este caso no retorna nada, dado que no le hemos agregado nada a la columna"
      ]
    },
    {
      "cell_type": "markdown",
      "id": "0082c8ca",
      "metadata": {
        "id": "0082c8ca"
      },
      "source": [
        "# Insertar un Documento"
      ]
    },
    {
      "cell_type": "markdown",
      "id": "694b4e16",
      "metadata": {
        "id": "694b4e16"
      },
      "source": [
        "Un documento en MongoDB es lo mismo que un _record_ en SQL. Los documentos se adjuntan en las colecciones, de forma que solo vamos agregando información a las _tablas_. Para hacer esto utilizando un método, cuyo parametro debe ser un diccionario que contenga el nombre y el valor en cada campo que buscamos ingresar, de la siguiente forma:"
      ]
    },
    {
      "cell_type": "code",
      "execution_count": null,
      "id": "2f55ab29",
      "metadata": {
        "id": "2f55ab29"
      },
      "outputs": [],
      "source": [
        "mycol = mydb[\"customers\"] #columna\n",
        "mydict = { \"name\": \"Alan\", \"address\": \"Mexico\"} # Lista a agregar\n",
        "\n",
        "x = mycol.insert_one(mydict) # método de insertado"
      ]
    },
    {
      "cell_type": "markdown",
      "id": "118fad37",
      "metadata": {
        "id": "118fad37"
      },
      "source": [
        "De esta forma, podemos ingresar información a la base de datos. Es importante notar que el método anterior ingresa la información a la database con un Id automáticamente, si queremos obtenerlo de regreso utilizamos el comando:"
      ]
    },
    {
      "cell_type": "code",
      "execution_count": null,
      "id": "7ff9751a",
      "metadata": {
        "id": "7ff9751a",
        "outputId": "5e9b0b25-d59b-4dd4-a982-aab9046eacee"
      },
      "outputs": [
        {
          "name": "stdout",
          "output_type": "stream",
          "text": [
            "65fb8747188ad79beb98162a\n"
          ]
        }
      ],
      "source": [
        "print(x.inserted_id) # Obtenemos el id del documento ingresado"
      ]
    },
    {
      "cell_type": "markdown",
      "id": "93c30e30",
      "metadata": {
        "id": "93c30e30"
      },
      "source": [
        "Para insertar multiples documentos utilizamos el comando insert_many() donde el parámetro de la función debe ser una _lista_ conteniendo todos los diccionarios a ingresar, de la siguiente manera:"
      ]
    },
    {
      "cell_type": "code",
      "execution_count": null,
      "id": "c5390f32",
      "metadata": {
        "id": "c5390f32"
      },
      "outputs": [],
      "source": [
        "mylist = [\n",
        "  { \"name\": \"Amy\", \"address\": \"Apple st 652\"},\n",
        "  { \"name\": \"Hannah\", \"address\": \"Mountain 21\"},\n",
        "  { \"name\": \"Michael\", \"address\": \"Valley 345\"},\n",
        "  { \"name\": \"Sandy\", \"address\": \"Ocean blvd 2\"},\n",
        "  { \"name\": \"Betty\", \"address\": \"Green Grass 1\"},\n",
        "  { \"name\": \"Richard\", \"address\": \"Sky st 331\"},\n",
        "  { \"name\": \"Susan\", \"address\": \"One way 98\"},\n",
        "  { \"name\": \"Vicky\", \"address\": \"Yellow Garden 2\"},\n",
        "  { \"name\": \"Ben\", \"address\": \"Park Lane 38\"},\n",
        "  { \"name\": \"William\", \"address\": \"Central st 954\"},\n",
        "  { \"name\": \"Chuck\", \"address\": \"Main Road 989\"},\n",
        "  { \"name\": \"Viola\", \"address\": \"Sideway 1633\"}\n",
        "]\n",
        "\n",
        "x = mycol.insert_many(mylist)\n",
        "\n",
        "#print list of the _id values of the inserted documents:\n",
        "#print(x.inserted_ids)"
      ]
    },
    {
      "cell_type": "markdown",
      "id": "3ebc1f32",
      "metadata": {
        "id": "3ebc1f32"
      },
      "source": [
        "Si ahora buscamos específicar los id, es necesario utilizar el siguiente formato:"
      ]
    },
    {
      "cell_type": "code",
      "execution_count": null,
      "id": "3089eb34",
      "metadata": {
        "id": "3089eb34",
        "outputId": "79dfb19f-4420-47d1-dbf6-68f1d8b28eff"
      },
      "outputs": [
        {
          "name": "stdout",
          "output_type": "stream",
          "text": [
            "[1, 2, 3, 4, 5, 6, 7, 8, 9, 10, 11, 12, 13, 14]\n"
          ]
        }
      ],
      "source": [
        "import pymongo\n",
        "\n",
        "myclient = pymongo.MongoClient(\"mongodb://localhost:27017/\")\n",
        "mydb = myclient[\"mydatabase\"]\n",
        "mycol = mydb[\"customers\"]\n",
        "\n",
        "mylist = [\n",
        "  { \"_id\": 1, \"name\": \"John\", \"address\": \"Highway 37\"},\n",
        "  { \"_id\": 2, \"name\": \"Peter\", \"address\": \"Lowstreet 27\"},\n",
        "  { \"_id\": 3, \"name\": \"Amy\", \"address\": \"Apple st 652\"},\n",
        "  { \"_id\": 4, \"name\": \"Hannah\", \"address\": \"Mountain 21\"},\n",
        "  { \"_id\": 5, \"name\": \"Michael\", \"address\": \"Valley 345\"},\n",
        "  { \"_id\": 6, \"name\": \"Sandy\", \"address\": \"Ocean blvd 2\"},\n",
        "  { \"_id\": 7, \"name\": \"Betty\", \"address\": \"Green Grass 1\"},\n",
        "  { \"_id\": 8, \"name\": \"Richard\", \"address\": \"Sky st 331\"},\n",
        "  { \"_id\": 9, \"name\": \"Susan\", \"address\": \"One way 98\"},\n",
        "  { \"_id\": 10, \"name\": \"Vicky\", \"address\": \"Yellow Garden 2\"},\n",
        "  { \"_id\": 11, \"name\": \"Ben\", \"address\": \"Park Lane 38\"},\n",
        "  { \"_id\": 12, \"name\": \"William\", \"address\": \"Central st 954\"},\n",
        "  { \"_id\": 13, \"name\": \"Chuck\", \"address\": \"Main Road 989\"},\n",
        "  { \"_id\": 14, \"name\": \"Viola\", \"address\": \"Sideway 1633\"}\n",
        "]\n",
        "\n",
        "x = mycol.insert_many(mylist)\n",
        "\n",
        "#print list of the _id values of the inserted documents:\n",
        "print(x.inserted_ids)"
      ]
    },
    {
      "cell_type": "markdown",
      "id": "84a826c9",
      "metadata": {
        "id": "84a826c9"
      },
      "source": [
        "# Encontrar un elemento"
      ]
    },
    {
      "cell_type": "markdown",
      "id": "3e894c09",
      "metadata": {
        "id": "3e894c09"
      },
      "source": [
        "Para encontrar un elemento suele utilizarse el método find() o el método find_one() dentro de una _colección_. Es el símil a SELECT en MySQL."
      ]
    },
    {
      "cell_type": "code",
      "execution_count": null,
      "id": "ebc7c83e",
      "metadata": {
        "id": "ebc7c83e"
      },
      "outputs": [],
      "source": [
        "x = mycol.find_one()\n",
        "# Esto devolverá el primer elemento de la columna dada"
      ]
    },
    {
      "cell_type": "markdown",
      "id": "77bf96d7",
      "metadata": {
        "id": "77bf96d7"
      },
      "source": [
        "Para obtener todos los elementos de una columna usamos el método find(), el parametro que debe incluir es un objeto tipo Query, si se deja vacío el paramétro retorna todos los elementos de la columna.\n",
        "\n",
        "Este apartado es análogo al SELECT* en MySQL"
      ]
    },
    {
      "cell_type": "code",
      "execution_count": 1,
      "id": "4f930aa5",
      "metadata": {
        "scrolled": true,
        "id": "4f930aa5"
      },
      "outputs": [],
      "source": [
        "for x in mycol.find():\n",
        "    print(x)\n",
        "\n",
        "# Este método retorna todos y cada uno de los elementos\n",
        "# de la columna."
      ]
    },
    {
      "cell_type": "markdown",
      "id": "b1c5cf3e",
      "metadata": {
        "id": "b1c5cf3e"
      },
      "source": [
        "Si queremos obtener solo algunos apartados del documento almacenado en la columan, utilizamos el _segundo paramétro_ de la función find(), de la siguiente forma:"
      ]
    },
    {
      "cell_type": "code",
      "execution_count": null,
      "id": "0d737e95",
      "metadata": {
        "id": "0d737e95"
      },
      "outputs": [],
      "source": [
        "for x in mycol.find({},{ \"_id\": 0, \"name\": 1, \"address\": 1 }):\n",
        "  print(x)\n",
        "\n",
        "# Este método únicamente retorna los nombres y direcciones\n",
        "# NOTA: no podemos específicar 0 y 1 para el mismo objeto\n",
        "# (excepto para el id).\n",
        "\n",
        "# I.e, si colocamos 0 todos los demás poseen 1, y viceversa"
      ]
    },
    {
      "cell_type": "markdown",
      "id": "125712d0",
      "metadata": {
        "id": "125712d0"
      },
      "source": [
        "# ¿Qué es un Query?"
      ]
    },
    {
      "cell_type": "markdown",
      "id": "c7d7bd0c",
      "metadata": {
        "id": "c7d7bd0c"
      },
      "source": [
        "Cuando encontremos elementos con find(), podemos filtar los resultados que nos regresa, _query_ corresponde al primer paramétro que le damos, de manera que actúa como un filtro.\n",
        "\n",
        "Query es un diccionario, que debe contener el siguiente formato:"
      ]
    },
    {
      "cell_type": "code",
      "execution_count": null,
      "id": "095bb485",
      "metadata": {
        "id": "095bb485"
      },
      "outputs": [],
      "source": [
        "myquery = { \"address\": \"Park Lane 38\" } # Formato\n",
        "\n",
        "mydoc = mycol.find(myquery) # Uso\n",
        "\n",
        "for x in mydoc: # Aplicacion\n",
        "  print(x)"
      ]
    },
    {
      "cell_type": "markdown",
      "id": "5220b87c",
      "metadata": {
        "id": "5220b87c"
      },
      "source": [
        "Podemos usar _advance query_ para realizar mejores busquedas, por ejemplo, si quisieramos obtener las direcciones que comiencen con letras S o alfabéticamente superior utilizamos un fórmato propio de MongoBD.\n",
        "\n",
        "\n",
        "De la misma forma, puede utilizarse RegEx. Todo esto es conocido como _modifiers_."
      ]
    },
    {
      "cell_type": "code",
      "execution_count": null,
      "id": "c6dc8d26",
      "metadata": {
        "id": "c6dc8d26"
      },
      "outputs": [],
      "source": [
        "'''\n",
        "# Standar\n",
        "myquery = { \"address\": { \"$gt\": \"S\" } }\n",
        "mydoc = mycol.find(myquery)\n",
        "\n",
        "# Using RegEx:\n",
        "myquery = { \"address\": { \"$regex\": \"^S\" } }\n",
        "\n",
        "mydoc = mycol.find(myquery)\n",
        "\n",
        "'''"
      ]
    },
    {
      "cell_type": "markdown",
      "id": "a2f1c9af",
      "metadata": {
        "id": "a2f1c9af"
      },
      "source": [
        "# Ordenar"
      ]
    },
    {
      "cell_type": "markdown",
      "id": "af16c03e",
      "metadata": {
        "id": "af16c03e"
      },
      "source": [
        "Para ordenar los datos en forma ascendente o descente usamos el método sort(). Este método recibe dos paramétros, el primer corresponde al nombre de la colección a ordenar, y el segundo es la _dirección_ de orden (ascendente o descendente).\n",
        "\n",
        "Ascending es la orden por defecto."
      ]
    },
    {
      "cell_type": "code",
      "execution_count": null,
      "id": "75a5cd29",
      "metadata": {
        "id": "75a5cd29"
      },
      "outputs": [],
      "source": [
        "mydoc = mycol.find().sort(\"name\")\n",
        "\n",
        "for x in mydoc:\n",
        "  print(x)"
      ]
    },
    {
      "cell_type": "markdown",
      "id": "20f97cc2",
      "metadata": {
        "id": "20f97cc2"
      },
      "source": [
        "En el caso de usar nombres, los ordena alfabéticamente. Para ordenarlos en orden ascendente o descente usamos $1$ y $-1$ respectivamente en el segundo paramétro."
      ]
    },
    {
      "cell_type": "markdown",
      "id": "73f0580b",
      "metadata": {
        "id": "73f0580b"
      },
      "source": [
        "# Eliminar un Documento o una Colección"
      ]
    },
    {
      "cell_type": "markdown",
      "id": "d1f247ba",
      "metadata": {
        "id": "d1f247ba"
      },
      "source": [
        "Para eliminar documentos usamos el método delete_one(), este método recibe un query con del documento que buscamos eliminar, de esta forma si dos documentos poseen el mismo query solo elimina su primera aparición."
      ]
    },
    {
      "cell_type": "code",
      "execution_count": null,
      "id": "80a16e9c",
      "metadata": {
        "id": "80a16e9c"
      },
      "outputs": [],
      "source": [
        "myquery = { \"address\": \"Mountain 21\" }\n",
        "\n",
        "mycol.delete_one(myquery)"
      ]
    },
    {
      "cell_type": "markdown",
      "id": "539d4c92",
      "metadata": {
        "id": "539d4c92"
      },
      "source": [
        "Para eliminar muchos documentos usamos el método delete_many(), donde el parámetro corresponde a un query definiendo los objetos a eliminar"
      ]
    },
    {
      "cell_type": "code",
      "execution_count": null,
      "id": "c63b717d",
      "metadata": {
        "id": "c63b717d"
      },
      "outputs": [],
      "source": [
        "myquery = { \"address\": {\"$regex\": \"^S\"} } # Query para documentos son S o superiores\n",
        "\n",
        "x = mycol.delete_many(myquery) # Eliminamos la información\n",
        "\n",
        "print(x.deleted_count, \" documents deleted.\")  # Mostramos la cantidad de documentos eliminados"
      ]
    },
    {
      "cell_type": "markdown",
      "id": "ce658d9d",
      "metadata": {
        "id": "ce658d9d"
      },
      "source": [
        "Para eliminar todos los documentos en una colección únicamente utilizamos delete_many() con el query nulo:"
      ]
    },
    {
      "cell_type": "code",
      "execution_count": null,
      "id": "dc9981e9",
      "metadata": {
        "id": "dc9981e9"
      },
      "outputs": [],
      "source": [
        "x = mycol.delete_many({})\n",
        "\n",
        "print(x.deleted_count, \" documents deleted.\")"
      ]
    },
    {
      "cell_type": "markdown",
      "id": "00199548",
      "metadata": {
        "id": "00199548"
      },
      "source": [
        "Podemos eliminar una colección utilizando el método drop(), de la siguiente forma:"
      ]
    },
    {
      "cell_type": "code",
      "execution_count": null,
      "id": "4ff0be4a",
      "metadata": {
        "id": "4ff0be4a"
      },
      "outputs": [],
      "source": [
        "mycol.drop()"
      ]
    },
    {
      "cell_type": "markdown",
      "id": "7426cfcb",
      "metadata": {
        "id": "7426cfcb"
      },
      "source": [
        "Este método retorna _true_ si la colección se eliminó, y _false_ si la colección no existe."
      ]
    },
    {
      "cell_type": "markdown",
      "id": "67cd39dd",
      "metadata": {
        "id": "67cd39dd"
      },
      "source": [
        "# Actualizar documentos"
      ]
    },
    {
      "cell_type": "markdown",
      "id": "a5a0aff8",
      "metadata": {
        "id": "a5a0aff8"
      },
      "source": [
        "Es posible actualizar documentos mediante el comando update_one(), este recibe como paramétros dos query, el primero con el nombre del documento, y la segunda con la información a actualizar. Si hay dos documenos con el mismo nombre actualizará el primero, de la siguiente forma:"
      ]
    },
    {
      "cell_type": "code",
      "execution_count": null,
      "id": "12c3d912",
      "metadata": {
        "id": "12c3d912"
      },
      "outputs": [],
      "source": [
        "myquery = { \"address\": \"Valley 345\" }\n",
        "newvalues = { \"$set\": { \"address\": \"Canyon 123\" } }\n",
        "\n",
        "mycol.update_one(myquery, newvalues)\n",
        "\n",
        "#print \"customers\" after the update:\n",
        "for x in mycol.find():\n",
        "  print(x)"
      ]
    },
    {
      "cell_type": "markdown",
      "id": "2c22abf5",
      "metadata": {
        "id": "2c22abf5"
      },
      "source": [
        "Para actualizar todos los documentos se necesita que el primer paramétro contenga un criterio, de la misma forma que en los casos anteriores, usamos el método update_many()."
      ]
    },
    {
      "cell_type": "code",
      "execution_count": null,
      "id": "8d840ca2",
      "metadata": {
        "id": "8d840ca2"
      },
      "outputs": [],
      "source": [
        "myquery = { \"address\": { \"$regex\": \"^S\" } }\n",
        "newvalues = { \"$set\": { \"name\": \"Minnie\" } }\n",
        "\n",
        "x = mycol.update_many(myquery, newvalues)\n",
        "\n",
        "print(x.modified_count, \"documents updated.\")"
      ]
    },
    {
      "cell_type": "markdown",
      "id": "7614c353",
      "metadata": {
        "id": "7614c353"
      },
      "source": [
        "# Cómo limitar los documentos"
      ]
    },
    {
      "cell_type": "markdown",
      "id": "bf760d00",
      "metadata": {
        "id": "bf760d00"
      },
      "source": [
        "En caso de tener una colección muy amplia, podemos limitar el número de documentos que nos muestra por medio del método limit()"
      ]
    },
    {
      "cell_type": "code",
      "execution_count": null,
      "id": "8b3fa893",
      "metadata": {
        "id": "8b3fa893"
      },
      "outputs": [],
      "source": [
        "myresult = mycol.find().limit(5)\n",
        "\n",
        "#print the result:\n",
        "for x in myresult:\n",
        "  print(x)"
      ]
    }
  ],
  "metadata": {
    "kernelspec": {
      "display_name": "Python 3 (ipykernel)",
      "language": "python",
      "name": "python3"
    },
    "language_info": {
      "codemirror_mode": {
        "name": "ipython",
        "version": 3
      },
      "file_extension": ".py",
      "mimetype": "text/x-python",
      "name": "python",
      "nbconvert_exporter": "python",
      "pygments_lexer": "ipython3",
      "version": "3.11.5"
    },
    "colab": {
      "provenance": [],
      "include_colab_link": true
    }
  },
  "nbformat": 4,
  "nbformat_minor": 5
}